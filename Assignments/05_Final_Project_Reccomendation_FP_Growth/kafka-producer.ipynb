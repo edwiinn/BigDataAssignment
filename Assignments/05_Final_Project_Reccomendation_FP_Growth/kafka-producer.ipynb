{
 "cells": [
  {
   "cell_type": "code",
   "execution_count": 7,
   "metadata": {},
   "outputs": [],
   "source": [
    "import json\n",
    "import csv\n",
    "from time import sleep\n",
    "from kafka import KafkaConsumer, KafkaProducer\n",
    "\n",
    "# import logging\n",
    "# logging.basicConfig(level=logging.DEBUG)\n",
    "const_topic = \"black-fridays-3\""
   ]
  },
  {
   "cell_type": "code",
   "execution_count": 8,
   "metadata": {},
   "outputs": [],
   "source": [
    "def connect_kafka_producer():\n",
    "    _producer = None\n",
    "    try:\n",
    "        _producer = KafkaProducer(bootstrap_servers=['localhost:9092'],value_serializer=lambda m: json.dumps(m).encode('ascii'))\n",
    "    except Exception as ex:\n",
    "        print('Exception while connecting Kafka')\n",
    "        print(str(ex))\n",
    "    finally:\n",
    "        return _producer"
   ]
  },
  {
   "cell_type": "code",
   "execution_count": 9,
   "metadata": {},
   "outputs": [],
   "source": [
    "producer = connect_kafka_producer()"
   ]
  },
  {
   "cell_type": "code",
   "execution_count": 4,
   "metadata": {},
   "outputs": [
    {
     "name": "stdout",
     "output_type": "stream",
     "text": [
      "JSON parsed!\n"
     ]
    }
   ],
   "source": [
    "datasetFile = open( 'BlackFriday.csv', 'r' )  \n",
    "reader = csv.DictReader( datasetFile, fieldnames = ( \"user_id\",\"product_id\",\"gender\",\"age\",\"occupation\",\"city_category\",\"stay_in_current_city_years\",\"marital_status\",\"product_category_1\",\"product_category_2\",\"product_category_3\",\"purchase\"))   \n",
    "datasetString = json.dumps( [ row for row in reader ] )  \n",
    "print(\"JSON parsed!\")  "
   ]
  },
  {
   "cell_type": "code",
   "execution_count": 5,
   "metadata": {},
   "outputs": [
    {
     "name": "stdout",
     "output_type": "stream",
     "text": [
      "JSON loaded!\n"
     ]
    }
   ],
   "source": [
    "datasetJson = json.loads(datasetString)[1:]\n",
    "print(\"JSON loaded!\")"
   ]
  },
  {
   "cell_type": "code",
   "execution_count": 6,
   "metadata": {},
   "outputs": [
    {
     "data": {
      "text/plain": [
       "<kafka.producer.future.FutureRecordMetadata at 0x1acb1787be0>"
      ]
     },
     "execution_count": 6,
     "metadata": {},
     "output_type": "execute_result"
    }
   ],
   "source": [
    "# TEST Once\n",
    "producer.send(const_topic,datasetJson[10])"
   ]
  },
  {
   "cell_type": "code",
   "execution_count": 6,
   "metadata": {},
   "outputs": [],
   "source": [
    "#Sent by User ID\n",
    "cacheUserId = None\n",
    "cacheRows = []\n",
    "for row in datasetJson:\n",
    "    if cacheUserId == None:\n",
    "        cacheUserId = row[\"user_id\"]\n",
    "    elif cacheUserId == row[\"user_id\"]:\n",
    "        cacheRows.append(row)\n",
    "    else:\n",
    "        cacheUserId = row[\"user_id\"]\n",
    "        for sub_row in cacheRows:\n",
    "            producer.send(const_topic ,sub_row)\n",
    "        cacheRows.clear()\n",
    "        cacheRows.append(row)"
   ]
  },
  {
   "cell_type": "code",
   "execution_count": null,
   "metadata": {},
   "outputs": [],
   "source": [
    "#Sent stream\n",
    "for row in datasetJson:\n",
    "    producer.send(const_topic,row)\n",
    "    sleep(0.1)"
   ]
  },
  {
   "cell_type": "code",
   "execution_count": null,
   "metadata": {},
   "outputs": [],
   "source": []
  }
 ],
 "metadata": {
  "kernelspec": {
   "display_name": "Python 3",
   "language": "python",
   "name": "python3"
  },
  "language_info": {
   "codemirror_mode": {
    "name": "ipython",
    "version": 3
   },
   "file_extension": ".py",
   "mimetype": "text/x-python",
   "name": "python",
   "nbconvert_exporter": "python",
   "pygments_lexer": "ipython3",
   "version": "3.7.2"
  }
 },
 "nbformat": 4,
 "nbformat_minor": 2
}
