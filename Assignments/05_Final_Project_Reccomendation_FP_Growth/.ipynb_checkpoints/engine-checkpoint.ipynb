{
 "cells": [
  {
   "cell_type": "code",
   "execution_count": 24,
   "metadata": {},
   "outputs": [],
   "source": [
    "import os\n",
    "from pyspark.sql import functions as F\n",
    "import pyspark.sql.types as T\n",
    "from pyspark.mllib.recommendation import ALS\n",
    "from pyspark.sql import Row\n",
    "from pyspark.ml.fpm import FPGrowth\n",
    "\n",
    "import logging\n",
    "logging.basicConfig(level=logging.INFO)\n",
    "logger = logging.getLogger(__name__)\n",
    "\n",
    "def unique(list1): \n",
    "  \n",
    "    # intilize a null list \n",
    "    unique_list = [] \n",
    "      \n",
    "    # traverse for all elements \n",
    "    for x in list1:\n",
    "        x = x.strip()\n",
    "        # check if exists in unique_list or not \n",
    "        if x not in unique_list: \n",
    "            unique_list.append(x)\n",
    "      \n",
    "    return unique_list\n",
    "def fudf(val):\n",
    "    return unique(val)\n",
    "\n",
    "flattenUdf = F.udf(fudf, T.ArrayType(T.StringType()))\n",
    "\n",
    "class RecommendationEngine:\n",
    "    def get_user_products(self, user_id):\n",
    "        \"\"\"Get All of User Products\n",
    "        \"\"\"\n",
    "        available = self.groupedUserProductDf.filter(self.groupedUserProductDf[\"user_id\"] == user_id).collect()\n",
    "        if len(available) == 0:\n",
    "            return None\n",
    "        return available[0][1]\n",
    "    \n",
    "    def add_user(self,inUsers_id,products):\n",
    "        new_user = [Row(user_id=inUsers_id,ListItem=products)]\n",
    "        new_user = self.sc.createDataFrame(new_user)\n",
    "        new_user = new_user.select(\"user_id\", flattenUdf(\"ListItem\").alias(\"ListItem\"))\n",
    "        self.groupedUserProductDf.union(new_user)\n",
    "        #self.__train_model()\n",
    "        \n",
    "    def get_user_reccomendation(self,user_id):\n",
    "        \"\"\"Get reccomendation for user\n",
    "        \"\"\"\n",
    "        products = self.get_user_products(user_id)\n",
    "        if products == None:\n",
    "            return None\n",
    "        temp = [Row(ListItem=products)]\n",
    "        temp = self.sc.createDataFrame(temp)\n",
    "        reccomendation = self.model.transform(temp)\n",
    "        if reccomendation == None:\n",
    "            return None\n",
    "        return reccomendation.collect()\n",
    "        \n",
    "    def __train_model(self):\n",
    "        logger.info(\"Training Dataset\")\n",
    "        fpGrowth = FPGrowth(itemsCol=\"ListItem\", minSupport=0.004, minConfidence=0.05)\n",
    "        self.model = fpGrowth.fit(self.groupedUserProductDf)\n",
    "    \n",
    "    def __init__(self,sc,dataset_path):\n",
    "        logger.info(\"Starting Up Reccomendation Engine: \")\n",
    "        self.sc = sc\n",
    "        logger.info(\"Loading Dataset\")\n",
    "        df = self.sc.read.format(\"csv\").option(\"header\", \"true\").option(\"mode\", \"DROPMALFORMED\").load(\"batch1.csv\")\n",
    "        \n",
    "        userProductDf = df[[\"user_id\",\"product_id\"]]\n",
    "        self.groupedUserProductDf = userProductDf.groupBy('user_id').agg(F.collect_list('product_id').alias(\"ListItem\"))\n",
    "        self.groupedUserProductDf = self.groupedUserProductDf.select(\"user_id\", flattenUdf(\"ListItem\").alias(\"ListItem\"))\n",
    "        \n",
    "        self.__train_model()\n",
    "        "
   ]
  },
  {
   "cell_type": "code",
   "execution_count": 3,
   "metadata": {},
   "outputs": [],
   "source": [
    "from pyspark.sql import SparkSession \n",
    "spark = SparkSession.builder.appName(\"Product Reccomendation Engine\").getOrCreate()"
   ]
  },
  {
   "cell_type": "code",
   "execution_count": 25,
   "metadata": {},
   "outputs": [
    {
     "name": "stderr",
     "output_type": "stream",
     "text": [
      "INFO:__main__:Starting Up Reccomendation Engine: \n",
      "INFO:__main__:Loading Dataset\n",
      "INFO:__main__:Training Dataset\n"
     ]
    }
   ],
   "source": [
    "rg = RecommendationEngine(spark, \"batch1.csv\")"
   ]
  },
  {
   "cell_type": "code",
   "execution_count": 26,
   "metadata": {},
   "outputs": [
    {
     "data": {
      "text/plain": [
       "['P00106742',\n",
       " 'P00221442',\n",
       " 'P00128742',\n",
       " 'P00192042',\n",
       " 'P00034742',\n",
       " 'P00332242',\n",
       " 'P00129842',\n",
       " 'P00024042',\n",
       " 'P00150542',\n",
       " 'P00211142',\n",
       " 'P00112542',\n",
       " 'P00032042',\n",
       " 'P00057642',\n",
       " 'P00132642',\n",
       " 'P00183442',\n",
       " 'P00114342',\n",
       " 'P00145442']"
      ]
     },
     "execution_count": 26,
     "metadata": {},
     "output_type": "execute_result"
    }
   ],
   "source": [
    "rg.get_user_products('1000240')"
   ]
  },
  {
   "cell_type": "code",
   "execution_count": 27,
   "metadata": {},
   "outputs": [],
   "source": [
    "rg.add_user(\"20222\",['P00220442', 'P00112142'])"
   ]
  },
  {
   "cell_type": "code",
   "execution_count": 28,
   "metadata": {},
   "outputs": [],
   "source": [
    "rg.get_user_reccomendation(\"20222\")"
   ]
  },
  {
   "cell_type": "code",
   "execution_count": 29,
   "metadata": {},
   "outputs": [],
   "source": [
    "rg.get_user_products('20222')"
   ]
  },
  {
   "cell_type": "code",
   "execution_count": null,
   "metadata": {},
   "outputs": [],
   "source": []
  }
 ],
 "metadata": {
  "kernelspec": {
   "display_name": "Python 3",
   "language": "python",
   "name": "python3"
  },
  "language_info": {
   "codemirror_mode": {
    "name": "ipython",
    "version": 3
   },
   "file_extension": ".py",
   "mimetype": "text/x-python",
   "name": "python",
   "nbconvert_exporter": "python",
   "pygments_lexer": "ipython3",
   "version": "3.7.2"
  }
 },
 "nbformat": 4,
 "nbformat_minor": 2
}
