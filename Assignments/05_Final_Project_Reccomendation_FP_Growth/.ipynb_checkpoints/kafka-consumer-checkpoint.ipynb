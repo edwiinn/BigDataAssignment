{
 "cells": [
  {
   "cell_type": "code",
   "execution_count": 1,
   "metadata": {},
   "outputs": [],
   "source": [
    "from kafka import KafkaConsumer\n",
    "import csv\n",
    "import sys\n",
    "import time\n",
    "from json import loads\n",
    "\n",
    "const_topic = \"black-friday-2\""
   ]
  },
  {
   "cell_type": "code",
   "execution_count": 2,
   "metadata": {},
   "outputs": [],
   "source": [
    "consumer = KafkaConsumer(\n",
    "    const_topic,\n",
    "    bootstrap_servers=['localhost:9092'],\n",
    "    auto_offset_reset='earliest',\n",
    "    enable_auto_commit=True,\n",
    "    value_deserializer=lambda x: loads(x.decode('ascii')))"
   ]
  },
  {
   "cell_type": "code",
   "execution_count": 4,
   "metadata": {},
   "outputs": [
    {
     "name": "stdout",
     "output_type": "stream",
     "text": [
      "Get Batch 1\n",
      "Get Batch 2\n",
      "Get Batch 3\n",
      "Done\n"
     ]
    }
   ],
   "source": [
    "messageThreshold1 = 500\n",
    "messageThreshold2 = 1000\n",
    "messageThreshold3 = 1500\n",
    "messageCount = 0\n",
    "batch1 = []\n",
    "batch2 = []\n",
    "batch3 = []\n",
    "for message in consumer:\n",
    "    if messageCount <= messageThreshold1:\n",
    "        if len(batch1) == 0:\n",
    "            print(\"Get Batch 1\")\n",
    "        batch1.append(message.value)\n",
    "    elif messageCount <= messageThreshold2:\n",
    "        if len(batch2) == 0:\n",
    "            print(\"Get Batch 2\")\n",
    "        batch2.append(message.value)\n",
    "    elif messageCount <= messageThreshold3:\n",
    "        if len(batch3) == 0:\n",
    "            print(\"Get Batch 3\")\n",
    "        batch3.append(message.value)\n",
    "    else:\n",
    "        break\n",
    "    messageCount+=1\n",
    "print(\"Done\")\n",
    "consumer.close()"
   ]
  },
  {
   "cell_type": "code",
   "execution_count": 6,
   "metadata": {},
   "outputs": [],
   "source": [
    "f = csv.writer(open(\"batch1.csv\", \"wb+\"))\n",
    "\n",
    "# Write CSV Header, If you dont need that, remove this line\n",
    "f.writerow([\"user_id\",\"product_id\",\"gender\",\"age\",\"occupation\",\"city_category\",\"stay_in_current_city_years\",\"marital_status\",\"product_category_1\",\"product_category_2\",\"product_category_3\",\"purchase\"])\n",
    "for row in batch1:\n",
    "    f.writerow([row[\"user_id\"],row[\"product_id\"],row[\"gender\"],row[\"age\"],\n",
    "                row[\"occupation\"],row[\"city_category\"],row[\"stay_in_current_city_years\"],\n",
    "                row[\"marital_status\"],row[\"product_category_1\"],row[\"product_category_2\"],\n",
    "                row[\"product_category_3\"],row[\"purchase\"]\n",
    "                ])"
   ]
  },
  {
   "cell_type": "code",
   "execution_count": null,
   "metadata": {},
   "outputs": [],
   "source": []
  }
 ],
 "metadata": {
  "kernelspec": {
   "display_name": "Python 3",
   "language": "python",
   "name": "python3"
  },
  "language_info": {
   "codemirror_mode": {
    "name": "ipython",
    "version": 3
   },
   "file_extension": ".py",
   "mimetype": "text/x-python",
   "name": "python",
   "nbconvert_exporter": "python",
   "pygments_lexer": "ipython3",
   "version": "3.7.2"
  }
 },
 "nbformat": 4,
 "nbformat_minor": 2
}
