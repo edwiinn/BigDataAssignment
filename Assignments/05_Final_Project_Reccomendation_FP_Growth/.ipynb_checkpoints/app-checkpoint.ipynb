{
 "cells": [
  {
   "cell_type": "code",
   "execution_count": 1,
   "metadata": {},
   "outputs": [],
   "source": [
    "from flask import Blueprint\n",
    "main = Blueprint('main', __name__)\n",
    " \n",
    "import json\n",
    "import engine\n",
    " \n",
    "import logging\n",
    "logging.basicConfig(level=logging.INFO)\n",
    "logger = logging.getLogger(__name__)\n",
    " \n",
    "from flask import Flask, request\n",
    "\n",
    "#Create User\n",
    "@main.route(\"/models/<int:model_id>/users\", methods=[\"POST\"])\n",
    "def create_user(model_id):\n",
    "    \"\"\" body : user_id,products\n",
    "    \"\"\"\n",
    "    user_id = request.form[\"user_id\"]\n",
    "    products = request.form[\"products\"].split(\",\")\n",
    "    user = None\n",
    "    if model_id == 1:\n",
    "        user = recommendation_engine_1.add_user(user_id,products)\n",
    "    elif model_id == 2 :\n",
    "        user = recommendation_engine_2.add_user(user_id,products)\n",
    "    elif model_id == 3 :\n",
    "        user = recommendation_engine_3.add_user(user_id,products)\n",
    "    outUser = {}\n",
    "    outUser[\"user_id\"] = user[\"user_id\"]\n",
    "    outUser[\"products\"] = user[\"ListItem\"]\n",
    "    return json.dumps(outUser)\n",
    " \n",
    "#Get User\n",
    "@main.route(\"/models/<int:model_id>/users/<int:user_id>\", methods=[\"GET\"])\n",
    "def get_user(model_id, user_id):\n",
    "    logger.debug(\"User %s product requested\", user_id)\n",
    "    user = None\n",
    "    if model_id == 1:\n",
    "        user = recommendation_engine_1.get_user(user_id)\n",
    "    elif model_id == 2 :\n",
    "        user = recommendation_engine_2.get_user(user_id)\n",
    "    elif model_id == 3 :\n",
    "        user = recommendation_engine_3.get_user(user_id)\n",
    "    outUser = {}\n",
    "    outUser[\"user_id\"] = user[\"user_id\"]\n",
    "    outUser[\"products\"] = user[\"ListItem\"]\n",
    "    return json.dumps(outUser)\n",
    "\n",
    "    \n",
    "#Reccomend a product    \n",
    "@main.route(\"/models/<int:model_id>/reccomend/users/<int:user_id>\", methods=[\"GET\"])\n",
    "def reccomend_product(model_id, user_id):\n",
    "    logger.debug(\"Reccomending Product for user %s in Model %s\", user_id, model_id)\n",
    "    product = None\n",
    "    if model_id == 1:\n",
    "        product = recommendation_engine_1.get_user_reccomendation(user_id)\n",
    "    elif model_id == 2 :\n",
    "        product = recommendation_engine_2.get_user_reccomendation(user_id)\n",
    "    elif model_id == 3 :\n",
    "        product = recommendation_engine_3.get_user_reccomendation(user_id)\n",
    "    outItem = {}\n",
    "    outItem[\"products\"] = product[\"ListItem\"]\n",
    "    outItem[\"reccomendation\"] = product[\"prediction\"]\n",
    "    return json.dumps(outItem)\n",
    "\n",
    "def create_app(spark_context):\n",
    "    global recommendation_engine_1\n",
    "    global recommendation_engine_2\n",
    "    global recommendation_engine_3\n",
    " \n",
    "    recommendation_engine_1 = engine.RecommendationEngine(spark_context, \"batch1.csv\")\n",
    "    recommendation_engine_2 = engine.RecommendationEngine(spark_context, \"batch2.csv\")\n",
    "    recommendation_engine_3 = engine.RecommendationEngine(spark_context, \"batch3.csv\")\n",
    "    \n",
    "    \n",
    "    app = Flask(__name__)\n",
    "    app.register_blueprint(main)\n",
    "    return app"
   ]
  },
  {
   "cell_type": "code",
   "execution_count": 2,
   "metadata": {},
   "outputs": [
    {
     "name": "stderr",
     "output_type": "stream",
     "text": [
      "INFO:engine:Starting Up Reccomendation Engine: \n",
      "INFO:engine:Loading Dataset\n",
      "INFO:engine:Training Dataset\n",
      "INFO:engine:Starting Up Reccomendation Engine: \n",
      "INFO:engine:Loading Dataset\n",
      "INFO:engine:Training Dataset\n",
      "INFO:engine:Starting Up Reccomendation Engine: \n",
      "INFO:engine:Loading Dataset\n",
      "INFO:engine:Training Dataset\n"
     ]
    }
   ],
   "source": [
    "from pyspark.sql import SparkSession \n",
    "spark = SparkSession.builder.appName(\"Product Reccomendation Engine\").getOrCreate()\n",
    "app = create_app(spark)"
   ]
  },
  {
   "cell_type": "code",
   "execution_count": 3,
   "metadata": {},
   "outputs": [],
   "source": [
    "from paste.translogger import TransLogger\n",
    "import cherrypy\n",
    "def run_server(app):\n",
    " \n",
    "    # Enable WSGI access logging via Paste\n",
    "    app_logged = TransLogger(app)\n",
    " \n",
    "    # Mount the WSGI callable object (app) on the root directory\n",
    "    cherrypy.tree.graft(app_logged, '/')\n",
    " \n",
    "    # Set the configuration of the web server\n",
    "    cherrypy.config.update({\n",
    "        'engine.autoreload.on': True,\n",
    "        'log.screen': True,\n",
    "        'server.socket_port': 8091,\n",
    "        'server.socket_host': '127.0.0.1'\n",
    "    })\n",
    " \n",
    "    # Start the CherryPy WSGI web server\n",
    "    cherrypy.engine.start()\n",
    "    cherrypy.engine.block()"
   ]
  },
  {
   "cell_type": "code",
   "execution_count": null,
   "metadata": {},
   "outputs": [
    {
     "name": "stderr",
     "output_type": "stream",
     "text": [
      "[24/May/2019:02:54:53] ENGINE Bus STARTING\n",
      "INFO:cherrypy.error:[24/May/2019:02:54:53] ENGINE Bus STARTING\n",
      "[24/May/2019:02:54:53] ENGINE Started monitor thread 'Autoreloader'.\n",
      "INFO:cherrypy.error:[24/May/2019:02:54:53] ENGINE Started monitor thread 'Autoreloader'.\n",
      "[24/May/2019:02:54:53] ENGINE Serving on http://127.0.0.1:8091\n",
      "INFO:cherrypy.error:[24/May/2019:02:54:53] ENGINE Serving on http://127.0.0.1:8091\n",
      "[24/May/2019:02:54:53] ENGINE Bus STARTED\n",
      "INFO:cherrypy.error:[24/May/2019:02:54:53] ENGINE Bus STARTED\n",
      "INFO:engine:User Added\n",
      "127.0.0.1 - - [24/May/2019:02:55:54 +0700] \"POST /models/3/users HTTP/1.1\" 200 60 \"-\" \"PostmanRuntime/7.13.0\"\n",
      "INFO:engine:User Added\n",
      "127.0.0.1 - - [24/May/2019:02:56:12 +0700] \"POST /models/2/users HTTP/1.1\" 200 60 \"-\" \"PostmanRuntime/7.13.0\"\n",
      "127.0.0.1 - - [24/May/2019:02:56:51 +0700] \"GET /models/2/reccomend/users/20222 HTTP/1.1\" 200 112 \"-\" \"PostmanRuntime/7.13.0\"\n",
      "127.0.0.1 - - [24/May/2019:03:03:44 +0700] \"GET /models/3/reccomend/users/20222 HTTP/1.1\" 200 73 \"-\" \"PostmanRuntime/7.13.0\"\n"
     ]
    }
   ],
   "source": [
    "run_server(app)"
   ]
  },
  {
   "cell_type": "code",
   "execution_count": null,
   "metadata": {},
   "outputs": [],
   "source": []
  }
 ],
 "metadata": {
  "kernelspec": {
   "display_name": "Python 3",
   "language": "python",
   "name": "python3"
  },
  "language_info": {
   "codemirror_mode": {
    "name": "ipython",
    "version": 3
   },
   "file_extension": ".py",
   "mimetype": "text/x-python",
   "name": "python",
   "nbconvert_exporter": "python",
   "pygments_lexer": "ipython3",
   "version": "3.7.2"
  }
 },
 "nbformat": 4,
 "nbformat_minor": 2
}
