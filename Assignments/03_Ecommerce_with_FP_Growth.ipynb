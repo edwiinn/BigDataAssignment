{
 "cells": [
  {
   "cell_type": "markdown",
   "metadata": {},
   "source": [
    "#### Dataset : https://www.kaggle.com/carrie1/ecommerce-data/version/1"
   ]
  },
  {
   "cell_type": "markdown",
   "metadata": {},
   "source": [
    "# Init Spark"
   ]
  },
  {
   "cell_type": "code",
   "execution_count": 1,
   "metadata": {},
   "outputs": [],
   "source": [
    "from pyspark.sql import SparkSession, Row\n",
    "\n",
    "spark = SparkSession.builder.appName(\"ecommerce prediction with FP-Growth\").getOrCreate()"
   ]
  },
  {
   "cell_type": "markdown",
   "metadata": {},
   "source": [
    "# Load Dataset"
   ]
  },
  {
   "cell_type": "code",
   "execution_count": 2,
   "metadata": {},
   "outputs": [],
   "source": [
    "df = spark.read.format(\"csv\").option(\"header\", \"true\").option(\"mode\", \"DROPMALFORMED\").load(\"data.csv\")\n",
    "df = df.na.drop()"
   ]
  },
  {
   "cell_type": "code",
   "execution_count": 3,
   "metadata": {},
   "outputs": [
    {
     "data": {
      "text/plain": [
       "406829"
      ]
     },
     "execution_count": 3,
     "metadata": {},
     "output_type": "execute_result"
    }
   ],
   "source": [
    "df.count()"
   ]
  },
  {
   "cell_type": "code",
   "execution_count": 4,
   "metadata": {},
   "outputs": [
    {
     "name": "stdout",
     "output_type": "stream",
     "text": [
      "root\n",
      " |-- InvoiceNo: string (nullable = true)\n",
      " |-- StockCode: string (nullable = true)\n",
      " |-- Description: string (nullable = true)\n",
      " |-- Quantity: string (nullable = true)\n",
      " |-- InvoiceDate: string (nullable = true)\n",
      " |-- UnitPrice: string (nullable = true)\n",
      " |-- CustomerID: string (nullable = true)\n",
      " |-- Country: string (nullable = true)\n",
      "\n"
     ]
    }
   ],
   "source": [
    "df.printSchema()"
   ]
  },
  {
   "cell_type": "code",
   "execution_count": 5,
   "metadata": {},
   "outputs": [
    {
     "name": "stdout",
     "output_type": "stream",
     "text": [
      "+---------+---------+--------------------+--------+--------------+---------+----------+--------------+\n",
      "|InvoiceNo|StockCode|         Description|Quantity|   InvoiceDate|UnitPrice|CustomerID|       Country|\n",
      "+---------+---------+--------------------+--------+--------------+---------+----------+--------------+\n",
      "|   536365|   85123A|WHITE HANGING HEA...|       6|12/1/2010 8:26|     2.55|     17850|United Kingdom|\n",
      "|   536365|    71053| WHITE METAL LANTERN|       6|12/1/2010 8:26|     3.39|     17850|United Kingdom|\n",
      "|   536365|   84406B|CREAM CUPID HEART...|       8|12/1/2010 8:26|     2.75|     17850|United Kingdom|\n",
      "|   536365|   84029G|KNITTED UNION FLA...|       6|12/1/2010 8:26|     3.39|     17850|United Kingdom|\n",
      "|   536365|   84029E|RED WOOLLY HOTTIE...|       6|12/1/2010 8:26|     3.39|     17850|United Kingdom|\n",
      "|   536365|    22752|SET 7 BABUSHKA NE...|       2|12/1/2010 8:26|     7.65|     17850|United Kingdom|\n",
      "|   536365|    21730|GLASS STAR FROSTE...|       6|12/1/2010 8:26|     4.25|     17850|United Kingdom|\n",
      "|   536366|    22633|HAND WARMER UNION...|       6|12/1/2010 8:28|     1.85|     17850|United Kingdom|\n",
      "|   536366|    22632|HAND WARMER RED P...|       6|12/1/2010 8:28|     1.85|     17850|United Kingdom|\n",
      "|   536367|    84879|ASSORTED COLOUR B...|      32|12/1/2010 8:34|     1.69|     13047|United Kingdom|\n",
      "|   536367|    22745|POPPY'S PLAYHOUSE...|       6|12/1/2010 8:34|      2.1|     13047|United Kingdom|\n",
      "|   536367|    22748|POPPY'S PLAYHOUSE...|       6|12/1/2010 8:34|      2.1|     13047|United Kingdom|\n",
      "|   536367|    22749|FELTCRAFT PRINCES...|       8|12/1/2010 8:34|     3.75|     13047|United Kingdom|\n",
      "|   536367|    22310|IVORY KNITTED MUG...|       6|12/1/2010 8:34|     1.65|     13047|United Kingdom|\n",
      "|   536367|    84969|BOX OF 6 ASSORTED...|       6|12/1/2010 8:34|     4.25|     13047|United Kingdom|\n",
      "|   536367|    22623|BOX OF VINTAGE JI...|       3|12/1/2010 8:34|     4.95|     13047|United Kingdom|\n",
      "|   536367|    22622|BOX OF VINTAGE AL...|       2|12/1/2010 8:34|     9.95|     13047|United Kingdom|\n",
      "|   536367|    21754|HOME BUILDING BLO...|       3|12/1/2010 8:34|     5.95|     13047|United Kingdom|\n",
      "|   536367|    21755|LOVE BUILDING BLO...|       3|12/1/2010 8:34|     5.95|     13047|United Kingdom|\n",
      "|   536367|    21777|RECIPE BOX WITH M...|       4|12/1/2010 8:34|     7.95|     13047|United Kingdom|\n",
      "+---------+---------+--------------------+--------+--------------+---------+----------+--------------+\n",
      "only showing top 20 rows\n",
      "\n"
     ]
    }
   ],
   "source": [
    "df.show()"
   ]
  },
  {
   "cell_type": "markdown",
   "metadata": {},
   "source": [
    "# Slice Table"
   ]
  },
  {
   "cell_type": "code",
   "execution_count": 6,
   "metadata": {},
   "outputs": [],
   "source": [
    "historyDf = df[['InvoiceNo','StockCode']]\n",
    "itemDf = df[['StockCode','Description']]"
   ]
  },
  {
   "cell_type": "code",
   "execution_count": 7,
   "metadata": {},
   "outputs": [],
   "source": [
    "itemDf = itemDf.select(\"StockCode\",\"Description\").distinct()"
   ]
  },
  {
   "cell_type": "code",
   "execution_count": 8,
   "metadata": {},
   "outputs": [
    {
     "name": "stdout",
     "output_type": "stream",
     "text": [
      "+---------+----------------------------------+\n",
      "|StockCode|Description                       |\n",
      "+---------+----------------------------------+\n",
      "|21249    |WOODLAND  HEIGHT CHART STICKERS   |\n",
      "|84987    |SET OF 36 TEATIME PAPER DOILIES   |\n",
      "|84279P   |CHERRY BLOSSOM  DECORATIVE FLASK  |\n",
      "|20671    |BLUE TEATIME PRINT BOWL           |\n",
      "|85015    |SET OF 12  VINTAGE POSTCARD SET   |\n",
      "|22690    |DOORMAT HOME SWEET HOME BLUE      |\n",
      "|22708    |WRAP DOLLY GIRL                   |\n",
      "|90184A   |AMBER CHUNKY BEAD BRACELET W STRAP|\n",
      "|22236    |CAKE STAND 3 TIER MAGIC GARDEN    |\n",
      "|21285    |RETROSPOT CANDLE  MEDIUM          |\n",
      "|47593A   |CAROUSEL PONIES BABY BIB          |\n",
      "|21002    |ROSE DU SUD DRAWSTRING BAG        |\n",
      "|35637C   |PINK STRING CURTAIN WITH POLE     |\n",
      "|37423    |WHITE WITH BLACK CATS PLATE       |\n",
      "|23432    |PRETTY HANGING QUILTED HEARTS     |\n",
      "|10002    |INFLATABLE POLITICAL GLOBE        |\n",
      "|37444A   |YELLOW BREAKFAST CUP AND SAUCER   |\n",
      "|22197    |SMALL POPCORN HOLDER              |\n",
      "|22423    |REGENCY CAKESTAND 3 TIER          |\n",
      "|20973    |12 PENCIL SMALL TUBE WOODLAND     |\n",
      "+---------+----------------------------------+\n",
      "only showing top 20 rows\n",
      "\n"
     ]
    }
   ],
   "source": [
    "itemDf.show(20, truncate = False)"
   ]
  },
  {
   "cell_type": "code",
   "execution_count": 9,
   "metadata": {},
   "outputs": [
    {
     "name": "stdout",
     "output_type": "stream",
     "text": [
      "root\n",
      " |-- StockCode: string (nullable = true)\n",
      " |-- Description: string (nullable = true)\n",
      "\n"
     ]
    }
   ],
   "source": [
    "itemDf.printSchema()"
   ]
  },
  {
   "cell_type": "code",
   "execution_count": 10,
   "metadata": {},
   "outputs": [
    {
     "name": "stdout",
     "output_type": "stream",
     "text": [
      "+---------+---------+\n",
      "|InvoiceNo|StockCode|\n",
      "+---------+---------+\n",
      "|   536365|   85123A|\n",
      "|   536365|    71053|\n",
      "|   536365|   84406B|\n",
      "|   536365|   84029G|\n",
      "|   536365|   84029E|\n",
      "|   536365|    22752|\n",
      "|   536365|    21730|\n",
      "|   536366|    22633|\n",
      "|   536366|    22632|\n",
      "|   536367|    84879|\n",
      "|   536367|    22745|\n",
      "|   536367|    22748|\n",
      "|   536367|    22749|\n",
      "|   536367|    22310|\n",
      "|   536367|    84969|\n",
      "|   536367|    22623|\n",
      "|   536367|    22622|\n",
      "|   536367|    21754|\n",
      "|   536367|    21755|\n",
      "|   536367|    21777|\n",
      "+---------+---------+\n",
      "only showing top 20 rows\n",
      "\n"
     ]
    }
   ],
   "source": [
    "historyDf.show()"
   ]
  },
  {
   "cell_type": "code",
   "execution_count": 11,
   "metadata": {},
   "outputs": [
    {
     "name": "stdout",
     "output_type": "stream",
     "text": [
      "root\n",
      " |-- InvoiceNo: string (nullable = true)\n",
      " |-- StockCode: string (nullable = true)\n",
      "\n"
     ]
    }
   ],
   "source": [
    "historyDf.printSchema()"
   ]
  },
  {
   "cell_type": "markdown",
   "metadata": {},
   "source": [
    "# Group table by InvoiceNo"
   ]
  },
  {
   "cell_type": "code",
   "execution_count": 12,
   "metadata": {},
   "outputs": [],
   "source": [
    "from pyspark.sql import functions as F\n",
    "import pyspark.sql.types as T"
   ]
  },
  {
   "cell_type": "code",
   "execution_count": 13,
   "metadata": {},
   "outputs": [],
   "source": [
    "def unique(list1): \n",
    "  \n",
    "    # intilize a null list \n",
    "    unique_list = [] \n",
    "      \n",
    "    # traverse for all elements \n",
    "    for x in list1:\n",
    "        x = x.strip()\n",
    "        # check if exists in unique_list or not \n",
    "        if x not in unique_list: \n",
    "            unique_list.append(x)\n",
    "      \n",
    "    return unique_list"
   ]
  },
  {
   "cell_type": "code",
   "execution_count": 14,
   "metadata": {},
   "outputs": [],
   "source": [
    "def fudf(val):\n",
    "    return unique(val)\n",
    "flattenUdf = F.udf(fudf, T.ArrayType(T.StringType()))"
   ]
  },
  {
   "cell_type": "code",
   "execution_count": 15,
   "metadata": {},
   "outputs": [],
   "source": [
    "groupedDf = historyDf.groupBy('InvoiceNo').agg(F.collect_list('StockCode').alias(\"ListItem\"))\n",
    "groupedDf = groupedDf.select(\"InvoiceNo\", flattenUdf(\"ListItem\").alias(\"ListItem\"))"
   ]
  },
  {
   "cell_type": "code",
   "execution_count": 16,
   "metadata": {},
   "outputs": [
    {
     "name": "stdout",
     "output_type": "stream",
     "text": [
      "+---------+--------------------+\n",
      "|InvoiceNo|            ListItem|\n",
      "+---------+--------------------+\n",
      "|   536938|[22386, 85099C, 2...|\n",
      "|   537691|[22791, 22171, 82...|\n",
      "|   538184|[22585, 21481, 22...|\n",
      "|   538517|[22491, 21232, 21...|\n",
      "|   538879|[84819, 22150, 21...|\n",
      "|   539275|[22909, 22423, 22...|\n",
      "|   539630|[21484, 85099B, 2...|\n",
      "|   540499|[21868, 22697, 22...|\n",
      "|   540540|[21877, 21868, 21...|\n",
      "|   540976|[22394, 21890, 22...|\n",
      "|   541432|[21485, 22457, 84...|\n",
      "|   541518|[21880, 21881, 21...|\n",
      "|   541783|[22423, 22854, 22...|\n",
      "|   542026|[21754, 82600, 22...|\n",
      "|   542375|[21731, 22367, 22...|\n",
      "|  C540850|             [21231]|\n",
      "|   543641|[85123A, 21833, 2...|\n",
      "|   544303|[22660, 48138, 48...|\n",
      "|   545583|[85099B, 21931, 2...|\n",
      "|   547122|[21172, 21876, 21...|\n",
      "+---------+--------------------+\n",
      "only showing top 20 rows\n",
      "\n"
     ]
    }
   ],
   "source": [
    "groupedDf.show()"
   ]
  },
  {
   "cell_type": "markdown",
   "metadata": {},
   "source": [
    "# Prediction with FPGrowth"
   ]
  },
  {
   "cell_type": "code",
   "execution_count": 17,
   "metadata": {},
   "outputs": [
    {
     "name": "stdout",
     "output_type": "stream",
     "text": [
      "+----------------------------------+\n",
      "|Description                       |\n",
      "+----------------------------------+\n",
      "|WOODLAND  HEIGHT CHART STICKERS   |\n",
      "|SET OF 36 TEATIME PAPER DOILIES   |\n",
      "|CHERRY BLOSSOM  DECORATIVE FLASK  |\n",
      "|BLUE TEATIME PRINT BOWL           |\n",
      "|SET OF 12  VINTAGE POSTCARD SET   |\n",
      "|DOORMAT HOME SWEET HOME BLUE      |\n",
      "|WRAP DOLLY GIRL                   |\n",
      "|AMBER CHUNKY BEAD BRACELET W STRAP|\n",
      "|CAKE STAND 3 TIER MAGIC GARDEN    |\n",
      "|RETROSPOT CANDLE  MEDIUM          |\n",
      "|CAROUSEL PONIES BABY BIB          |\n",
      "|ROSE DU SUD DRAWSTRING BAG        |\n",
      "|PINK STRING CURTAIN WITH POLE     |\n",
      "|WHITE WITH BLACK CATS PLATE       |\n",
      "|PRETTY HANGING QUILTED HEARTS     |\n",
      "|INFLATABLE POLITICAL GLOBE        |\n",
      "|YELLOW BREAKFAST CUP AND SAUCER   |\n",
      "|SMALL POPCORN HOLDER              |\n",
      "|REGENCY CAKESTAND 3 TIER          |\n",
      "|12 PENCIL SMALL TUBE WOODLAND     |\n",
      "|SET OF 6 T-LIGHTS WEDDING CAKE    |\n",
      "|TEA TIME OVEN GLOVE               |\n",
      "|PINK PADDED MOBILE                |\n",
      "|BEADED CRYSTAL HEART GREEN SMALL  |\n",
      "|FRENCH BLUE METAL DOOR SIGN 8     |\n",
      "|POSY CANDY BAG                    |\n",
      "|WHITE BAMBOO RIBS LAMPSHADE       |\n",
      "|HANGING HEART BASKET              |\n",
      "|LOVE HEART TRINKET POT            |\n",
      "|CANDY HEART HANGING DECORATION    |\n",
      "+----------------------------------+\n",
      "only showing top 30 rows\n",
      "\n"
     ]
    }
   ],
   "source": [
    "from pyspark.ml.fpm import FPGrowth\n",
    "itemDf.select(\"Description\").show(30 ,truncate = False)"
   ]
  },
  {
   "cell_type": "markdown",
   "metadata": {},
   "source": [
    "### Prediksi Pertama"
   ]
  },
  {
   "cell_type": "code",
   "execution_count": 19,
   "metadata": {},
   "outputs": [],
   "source": [
    "fpGrowth = FPGrowth(itemsCol=\"ListItem\", minSupport=0.01, minConfidence=0.03)\n",
    "model = fpGrowth.fit(groupedDf)"
   ]
  },
  {
   "cell_type": "code",
   "execution_count": 20,
   "metadata": {},
   "outputs": [
    {
     "name": "stdout",
     "output_type": "stream",
     "text": [
      "+----------------+----+\n",
      "|           items|freq|\n",
      "+----------------+----+\n",
      "|        [15056N]| 384|\n",
      "|         [22846]| 266|\n",
      "|        [85123A]|2020|\n",
      "|         [22423]|1884|\n",
      "| [22423, 85123A]| 239|\n",
      "|         [22616]| 384|\n",
      "|         [21154]| 266|\n",
      "|        [85099B]|1643|\n",
      "|[85099B, 85123A]| 255|\n",
      "|         [21479]| 382|\n",
      "|         [22840]| 265|\n",
      "|         [22690]| 265|\n",
      "|         [47566]|1399|\n",
      "|  [47566, 22423]| 232|\n",
      "| [47566, 85123A]| 280|\n",
      "|         [21314]| 382|\n",
      "|         [84879]|1385|\n",
      "|  [84879, 22423]| 231|\n",
      "| [84879, 85123A]| 271|\n",
      "|         [22750]| 380|\n",
      "+----------------+----+\n",
      "only showing top 20 rows\n",
      "\n"
     ]
    }
   ],
   "source": [
    "model.freqItemsets.show()"
   ]
  },
  {
   "cell_type": "code",
   "execution_count": 21,
   "metadata": {},
   "outputs": [
    {
     "name": "stdout",
     "output_type": "stream",
     "text": [
      "+---------------+----------+-------------------+\n",
      "|     antecedent|consequent|         confidence|\n",
      "+---------------+----------+-------------------+\n",
      "|        [22554]|   [22551]| 0.4966216216216216|\n",
      "|        [22554]|   [22556]|0.43243243243243246|\n",
      "|        [22960]|   [22720]| 0.2559585492227979|\n",
      "|        [22960]|   [22961]|  0.322279792746114|\n",
      "| [20726, 22382]|   [20725]| 0.6356968215158925|\n",
      "|        [21977]|   [21212]| 0.5007407407407407|\n",
      "|        [21977]|   [84991]| 0.4148148148148148|\n",
      "|        [22699]|   [22423]| 0.5167464114832536|\n",
      "|        [22699]|   [22697]|  0.666267942583732|\n",
      "|        [22699]|   [22698]| 0.5394736842105263|\n",
      "|        [22866]|   [22867]| 0.5073684210526316|\n",
      "|        [22866]|   [22865]| 0.5915789473684211|\n",
      "|        [20723]|   [22355]|0.47023809523809523|\n",
      "|        [20723]|   [20724]| 0.5952380952380952|\n",
      "|[22386, 85099B]|   [21931]|0.40252707581227437|\n",
      "|[22386, 85099B]|  [85099F]|0.42057761732851984|\n",
      "| [23202, 23203]|  [85099B]| 0.5302325581395348|\n",
      "| [20726, 22384]|   [20725]| 0.7430340557275542|\n",
      "|        [22386]|   [23203]| 0.3009049773755656|\n",
      "|        [22386]|  [85099B]| 0.6266968325791855|\n",
      "+---------------+----------+-------------------+\n",
      "only showing top 20 rows\n",
      "\n"
     ]
    }
   ],
   "source": [
    "model.associationRules.show()"
   ]
  },
  {
   "cell_type": "code",
   "execution_count": 22,
   "metadata": {},
   "outputs": [],
   "source": [
    "itemInput = \"ASSORTED COLOUR BIRD ORNAMENT\"\n",
    "checkAvailableItem = itemDf.filter(itemDf['Description'] ==  itemInput).collect()"
   ]
  },
  {
   "cell_type": "code",
   "execution_count": 23,
   "metadata": {},
   "outputs": [
    {
     "name": "stdout",
     "output_type": "stream",
     "text": [
      "Found Item 84879\n"
     ]
    }
   ],
   "source": [
    "item = []\n",
    "if(not checkAvailableItem):\n",
    "    print(\"Item Not Found\")\n",
    "else:\n",
    "    item = checkAvailableItem[0]\n",
    "    print(\"Found Item \" + str(item[0]))"
   ]
  },
  {
   "cell_type": "code",
   "execution_count": 26,
   "metadata": {},
   "outputs": [],
   "source": [
    "temp = [Row(ListItem=[item[0]])]\n",
    "temp = spark.createDataFrame(temp)"
   ]
  },
  {
   "cell_type": "code",
   "execution_count": 27,
   "metadata": {},
   "outputs": [
    {
     "name": "stdout",
     "output_type": "stream",
     "text": [
      "+--------+----------------------+\n",
      "|ListItem|prediction            |\n",
      "+--------+----------------------+\n",
      "|[84879] |[22423, 85123A, 21136]|\n",
      "+--------+----------------------+\n",
      "\n"
     ]
    }
   ],
   "source": [
    "model.transform(temp).show(truncate = False)"
   ]
  },
  {
   "cell_type": "code",
   "execution_count": 28,
   "metadata": {},
   "outputs": [],
   "source": [
    "res = model.transform(temp).collect()[0]"
   ]
  },
  {
   "cell_type": "code",
   "execution_count": 29,
   "metadata": {},
   "outputs": [],
   "source": [
    "res = res[1]"
   ]
  },
  {
   "cell_type": "code",
   "execution_count": 30,
   "metadata": {},
   "outputs": [
    {
     "name": "stdout",
     "output_type": "stream",
     "text": [
      "Prediksi Item : REGENCY CAKESTAND 3 TIER(22423)\n",
      "Prediksi Item : WHITE HANGING HEART T-LIGHT HOLDER(85123A)\n",
      "Prediksi Item : PAINTED METAL PEARS ASSORTED(21136)\n"
     ]
    }
   ],
   "source": [
    "for prediction in res:\n",
    "    checkAvailableItem = itemDf.filter(itemDf['StockCode'] ==  prediction).collect()[0]\n",
    "    print(\"Prediksi Item : \" + checkAvailableItem[1] + \"(\" + checkAvailableItem[0]+\")\")"
   ]
  },
  {
   "cell_type": "markdown",
   "metadata": {},
   "source": [
    "### Prediksi 2"
   ]
  },
  {
   "cell_type": "code",
   "execution_count": 31,
   "metadata": {},
   "outputs": [],
   "source": [
    "fpGrowth = FPGrowth(itemsCol=\"ListItem\", minSupport=0.02, minConfidence=0.02)\n",
    "model = fpGrowth.fit(groupedDf)"
   ]
  },
  {
   "cell_type": "code",
   "execution_count": 32,
   "metadata": {},
   "outputs": [
    {
     "name": "stdout",
     "output_type": "stream",
     "text": [
      "+---------------+----+\n",
      "|          items|freq|\n",
      "+---------------+----+\n",
      "|       [85123A]|2020|\n",
      "|        [22423]|1884|\n",
      "|       [85099B]|1643|\n",
      "|        [47566]|1399|\n",
      "|        [84879]|1385|\n",
      "|        [20725]|1330|\n",
      "|        [22720]|1218|\n",
      "|         [POST]|1194|\n",
      "|        [23203]|1097|\n",
      "|[23203, 85099B]| 473|\n",
      "|        [22197]|1085|\n",
      "|        [20727]|1073|\n",
      "| [20727, 20725]| 523|\n",
      "|        [22383]|1063|\n",
      "| [22383, 20725]| 526|\n",
      "| [22383, 20727]| 467|\n",
      "|        [21212]|1041|\n",
      "|        [23298]|1021|\n",
      "|        [23209]|1017|\n",
      "| [23209, 23203]| 444|\n",
      "+---------------+----+\n",
      "only showing top 20 rows\n",
      "\n"
     ]
    }
   ],
   "source": [
    "model.freqItemsets.show()"
   ]
  },
  {
   "cell_type": "code",
   "execution_count": 33,
   "metadata": {},
   "outputs": [
    {
     "name": "stdout",
     "output_type": "stream",
     "text": [
      "+----------+----------+-------------------+\n",
      "|antecedent|consequent|         confidence|\n",
      "+----------+----------+-------------------+\n",
      "|   [22699]|   [22697]|  0.666267942583732|\n",
      "|   [22699]|   [22698]| 0.5394736842105263|\n",
      "|   [22386]|  [85099B]| 0.6266968325791855|\n",
      "|   [20727]|   [20725]| 0.4874184529356943|\n",
      "|   [20727]|   [22383]|0.43522833178005593|\n",
      "|   [20727]|   [22384]|0.43522833178005593|\n",
      "|   [22382]|   [22383]|0.45054945054945056|\n",
      "|   [22382]|   [20725]| 0.4695304695304695|\n",
      "|   [20725]|   [20727]|0.39323308270676693|\n",
      "|   [20725]|   [22383]| 0.3954887218045113|\n",
      "|   [20725]|   [22382]| 0.3533834586466165|\n",
      "|   [20725]|   [20728]|0.35037593984962406|\n",
      "|   [20725]|   [22384]|0.39849624060150374|\n",
      "|   [22384]|   [20725]| 0.5573080967402734|\n",
      "|   [22384]|   [20727]|  0.491062039957939|\n",
      "|   [22910]|   [22086]| 0.6403385049365303|\n",
      "|   [23209]|   [23203]| 0.4365781710914454|\n",
      "|  [85099B]|   [23203]| 0.2878880097382836|\n",
      "|  [85099B]|   [22386]| 0.3371880706025563|\n",
      "|   [22726]|   [22727]| 0.6625463535228677|\n",
      "+----------+----------+-------------------+\n",
      "only showing top 20 rows\n",
      "\n"
     ]
    }
   ],
   "source": [
    "model.associationRules.show()"
   ]
  },
  {
   "cell_type": "code",
   "execution_count": 34,
   "metadata": {},
   "outputs": [],
   "source": [
    "itemInput = \"LUNCH BAG PINK POLKADOT\"\n",
    "checkAvailableItem = itemDf.filter(itemDf['Description'] ==  itemInput).collect()"
   ]
  },
  {
   "cell_type": "code",
   "execution_count": 35,
   "metadata": {},
   "outputs": [
    {
     "name": "stdout",
     "output_type": "stream",
     "text": [
      "Found Item 22384\n"
     ]
    }
   ],
   "source": [
    "item = []\n",
    "if(not checkAvailableItem):\n",
    "    print(\"Item Not Found\")\n",
    "else:\n",
    "    item = checkAvailableItem[0]\n",
    "    print(\"Found Item \" + str(item[0]))"
   ]
  },
  {
   "cell_type": "code",
   "execution_count": 36,
   "metadata": {},
   "outputs": [],
   "source": [
    "from pyspark.sql import Row\n",
    "temp = [Row(ListItem=[item[0]])]\n",
    "temp = spark.createDataFrame(temp)"
   ]
  },
  {
   "cell_type": "code",
   "execution_count": 37,
   "metadata": {},
   "outputs": [
    {
     "name": "stdout",
     "output_type": "stream",
     "text": [
      "+--------+--------------+\n",
      "|ListItem|prediction    |\n",
      "+--------+--------------+\n",
      "|[22384] |[20725, 20727]|\n",
      "+--------+--------------+\n",
      "\n"
     ]
    }
   ],
   "source": [
    "model.transform(temp).show(truncate = False)"
   ]
  },
  {
   "cell_type": "code",
   "execution_count": 38,
   "metadata": {},
   "outputs": [],
   "source": [
    "res = model.transform(temp).collect()[0]"
   ]
  },
  {
   "cell_type": "code",
   "execution_count": 39,
   "metadata": {},
   "outputs": [],
   "source": [
    "res = res[1]"
   ]
  },
  {
   "cell_type": "code",
   "execution_count": 40,
   "metadata": {},
   "outputs": [
    {
     "name": "stdout",
     "output_type": "stream",
     "text": [
      "Prediksi Item : LUNCH BAG RED SPOTTY(20725)\n",
      "Prediksi Item : LUNCH BAG  BLACK SKULL.(20727)\n"
     ]
    }
   ],
   "source": [
    "for prediction in res:\n",
    "    checkAvailableItem = itemDf.filter(itemDf['StockCode'] ==  prediction).collect()[0]\n",
    "    print(\"Prediksi Item : \" + checkAvailableItem[1] + \"(\" + checkAvailableItem[0]+\")\")"
   ]
  },
  {
   "cell_type": "markdown",
   "metadata": {},
   "source": [
    "### Prediksi 3"
   ]
  },
  {
   "cell_type": "code",
   "execution_count": 41,
   "metadata": {},
   "outputs": [],
   "source": [
    "fpGrowth = FPGrowth(itemsCol=\"ListItem\", minSupport=0.015, minConfidence=0.025)\n",
    "model = fpGrowth.fit(groupedDf)"
   ]
  },
  {
   "cell_type": "code",
   "execution_count": 42,
   "metadata": {},
   "outputs": [
    {
     "name": "stdout",
     "output_type": "stream",
     "text": [
      "+---------------+----+\n",
      "|          items|freq|\n",
      "+---------------+----+\n",
      "|       [15056N]| 384|\n",
      "|       [85123A]|2020|\n",
      "|        [22423]|1884|\n",
      "|        [22616]| 384|\n",
      "|       [85099B]|1643|\n",
      "|        [21479]| 382|\n",
      "|        [47566]|1399|\n",
      "|        [21314]| 382|\n",
      "|        [84879]|1385|\n",
      "|        [22750]| 380|\n",
      "|        [20725]|1330|\n",
      "|[20725, 85099B]| 434|\n",
      "|        [22900]| 379|\n",
      "|        [22720]|1218|\n",
      "|        [82582]| 378|\n",
      "|         [POST]|1194|\n",
      "|        [21908]| 377|\n",
      "|        [23203]|1097|\n",
      "|[23203, 85099B]| 473|\n",
      "|        [22729]| 376|\n",
      "+---------------+----+\n",
      "only showing top 20 rows\n",
      "\n"
     ]
    }
   ],
   "source": [
    "model.freqItemsets.show()"
   ]
  },
  {
   "cell_type": "code",
   "execution_count": 43,
   "metadata": {},
   "outputs": [
    {
     "name": "stdout",
     "output_type": "stream",
     "text": [
      "+----------+----------+-------------------+\n",
      "|antecedent|consequent|         confidence|\n",
      "+----------+----------+-------------------+\n",
      "|   [21977]|   [21212]| 0.5007407407407407|\n",
      "|   [22699]|   [22423]| 0.5167464114832536|\n",
      "|   [22699]|   [22697]|  0.666267942583732|\n",
      "|   [22699]|   [22698]| 0.5394736842105263|\n",
      "|   [22386]|  [85099B]| 0.6266968325791855|\n",
      "|   [20727]|   [20725]| 0.4874184529356943|\n",
      "|   [20727]|   [22383]|0.43522833178005593|\n",
      "|   [20727]|   [23209]|0.31127679403541475|\n",
      "|   [20727]|   [22382]|0.39049394221808015|\n",
      "|   [20727]|   [20728]| 0.3960857409133271|\n",
      "|   [20727]|   [22384]|0.43522833178005593|\n",
      "|   [20727]|   [20726]|0.32805219012115566|\n",
      "|   [22382]|   [22383]|0.45054945054945056|\n",
      "|   [22382]|   [20725]| 0.4695304695304695|\n",
      "|   [22382]|   [20727]|0.41858141858141856|\n",
      "|   [22382]|   [20728]| 0.3946053946053946|\n",
      "|   [22382]|   [22384]| 0.3696303696303696|\n",
      "|   [22382]|   [20726]| 0.4085914085914086|\n",
      "|   [22382]|   [22662]|0.35564435564435565|\n",
      "|   [20725]|  [85099B]| 0.3263157894736842|\n",
      "+----------+----------+-------------------+\n",
      "only showing top 20 rows\n",
      "\n"
     ]
    }
   ],
   "source": [
    "model.associationRules.show()"
   ]
  },
  {
   "cell_type": "code",
   "execution_count": 44,
   "metadata": {},
   "outputs": [],
   "source": [
    "itemInput = \"JUMBO SHOPPER VINTAGE RED PAISLEY\"\n",
    "checkAvailableItem = itemDf.filter(itemDf['Description'] ==  itemInput).collect()"
   ]
  },
  {
   "cell_type": "code",
   "execution_count": 45,
   "metadata": {},
   "outputs": [
    {
     "name": "stdout",
     "output_type": "stream",
     "text": [
      "Found Item 22411\n"
     ]
    }
   ],
   "source": [
    "item = []\n",
    "if(not checkAvailableItem):\n",
    "    print(\"Item Not Found\")\n",
    "else:\n",
    "    item = checkAvailableItem[0]\n",
    "    print(\"Found Item \" + str(item[0]))"
   ]
  },
  {
   "cell_type": "code",
   "execution_count": 46,
   "metadata": {},
   "outputs": [],
   "source": [
    "temp1 = [Row(ListItem=[item[0]])]\n",
    "temp2 = spark.createDataFrame(temp1)"
   ]
  },
  {
   "cell_type": "code",
   "execution_count": 47,
   "metadata": {},
   "outputs": [
    {
     "name": "stdout",
     "output_type": "stream",
     "text": [
      "+--------+-----------------------------------+\n",
      "|ListItem|prediction                         |\n",
      "+--------+-----------------------------------+\n",
      "|[22384] |[20728, 22383, 20725, 20727, 22382]|\n",
      "+--------+-----------------------------------+\n",
      "\n"
     ]
    }
   ],
   "source": [
    "model.transform(temp).show(truncate = False)"
   ]
  },
  {
   "cell_type": "code",
   "execution_count": 48,
   "metadata": {},
   "outputs": [],
   "source": [
    "res = model.transform(temp).collect()[0]"
   ]
  },
  {
   "cell_type": "code",
   "execution_count": 49,
   "metadata": {},
   "outputs": [],
   "source": [
    "res = res[1]"
   ]
  },
  {
   "cell_type": "code",
   "execution_count": 50,
   "metadata": {},
   "outputs": [
    {
     "name": "stdout",
     "output_type": "stream",
     "text": [
      "Prediksi Item : LUNCH BAG CARS BLUE(20728)\n",
      "Prediksi Item : LUNCH BAG SUKI  DESIGN (22383)\n",
      "Prediksi Item : LUNCH BAG RED SPOTTY(20725)\n",
      "Prediksi Item : LUNCH BAG  BLACK SKULL.(20727)\n",
      "Prediksi Item : LUNCH BAG SPACEBOY DESIGN (22382)\n"
     ]
    }
   ],
   "source": [
    "for prediction in res:\n",
    "    checkAvailableItem = itemDf.filter(itemDf['StockCode'] ==  prediction).collect()[0]\n",
    "    print(\"Prediksi Item : \" + checkAvailableItem[1] + \"(\" + checkAvailableItem[0]+\")\")"
   ]
  },
  {
   "cell_type": "code",
   "execution_count": null,
   "metadata": {},
   "outputs": [],
   "source": []
  }
 ],
 "metadata": {
  "kernelspec": {
   "display_name": "Python 3",
   "language": "python",
   "name": "python3"
  },
  "language_info": {
   "codemirror_mode": {
    "name": "ipython",
    "version": 3
   },
   "file_extension": ".py",
   "mimetype": "text/x-python",
   "name": "python",
   "nbconvert_exporter": "python",
   "pygments_lexer": "ipython3",
   "version": "3.7.2"
  }
 },
 "nbformat": 4,
 "nbformat_minor": 2
}
