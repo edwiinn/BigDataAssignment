{
 "cells": [
  {
   "cell_type": "code",
   "execution_count": 1,
   "metadata": {},
   "outputs": [],
   "source": [
    "from pyspark.sql import SparkSession"
   ]
  },
  {
   "cell_type": "code",
   "execution_count": 2,
   "metadata": {},
   "outputs": [],
   "source": [
    "from pyspark.sql import SparkSession\n",
    "\n",
    "def init_spark():\n",
    "    spark = SparkSession.builder.appName(\"CrimeOneYear\").getOrCreate()\n",
    "    sc = spark.sparkContext\n",
    "    return spark,sc"
   ]
  },
  {
   "cell_type": "code",
   "execution_count": 3,
   "metadata": {},
   "outputs": [],
   "source": [
    "spark,sc = init_spark()\n",
    "df = spark.read.format(\"csv\").option(\"header\", \"true\").option(\"mode\", \"DROPMALFORMED\").load(\"dataset_crimes.csv\")"
   ]
  },
  {
   "cell_type": "code",
   "execution_count": 4,
   "metadata": {},
   "outputs": [
    {
     "data": {
      "text/plain": [
       "['CASE#',\n",
       " 'DATE  OF OCCURRENCE',\n",
       " 'BLOCK',\n",
       " ' IUCR',\n",
       " ' PRIMARY DESCRIPTION',\n",
       " ' SECONDARY DESCRIPTION',\n",
       " ' LOCATION DESCRIPTION',\n",
       " 'ARREST',\n",
       " 'DOMESTIC',\n",
       " 'BEAT',\n",
       " 'WARD',\n",
       " 'FBI CD',\n",
       " 'X COORDINATE',\n",
       " 'Y COORDINATE',\n",
       " 'LATITUDE',\n",
       " 'LONGITUDE',\n",
       " 'LOCATION']"
      ]
     },
     "execution_count": 4,
     "metadata": {},
     "output_type": "execute_result"
    }
   ],
   "source": [
    "df.schema.names"
   ]
  },
  {
   "cell_type": "code",
   "execution_count": 5,
   "metadata": {},
   "outputs": [
    {
     "data": {
      "text/plain": [
       "264807"
      ]
     },
     "execution_count": 5,
     "metadata": {},
     "output_type": "execute_result"
    }
   ],
   "source": [
    "df.count()"
   ]
  },
  {
   "cell_type": "code",
   "execution_count": 6,
   "metadata": {},
   "outputs": [],
   "source": [
    "df.registerTempTable(\"table_crime\")"
   ]
  },
  {
   "cell_type": "code",
   "execution_count": 32,
   "metadata": {},
   "outputs": [],
   "source": [
    "df2 = spark.sql(\"select ` LOCATION DESCRIPTION`,` PRIMARY DESCRIPTION`, count(*) as Total from table_crime GROUP BY ` LOCATION DESCRIPTION`,` PRIMARY DESCRIPTION` ORDER BY count(*) desc\")"
   ]
  },
  {
   "cell_type": "code",
   "execution_count": 8,
   "metadata": {},
   "outputs": [],
   "source": [
    "#Most Common Location and Crime || Tempat dan kejahatan paling sering"
   ]
  },
  {
   "cell_type": "code",
   "execution_count": 33,
   "metadata": {},
   "outputs": [
    {
     "name": "stdout",
     "output_type": "stream",
     "text": [
      "+---------------------+--------------------+-----+\n",
      "| LOCATION DESCRIPTION| PRIMARY DESCRIPTION|Total|\n",
      "+---------------------+--------------------+-----+\n",
      "|               STREET|               THEFT|15045|\n",
      "|            APARTMENT|             BATTERY|12205|\n",
      "|            RESIDENCE|             BATTERY|10464|\n",
      "|               STREET|     CRIMINAL DAMAGE| 9547|\n",
      "|               STREET| MOTOR VEHICLE THEFT| 7050|\n",
      "|               STREET|             BATTERY| 6598|\n",
      "|            RESIDENCE|       OTHER OFFENSE| 6268|\n",
      "|             SIDEWALK|             BATTERY| 6218|\n",
      "|            RESIDENCE|  DECEPTIVE PRACTICE| 5275|\n",
      "|            RESIDENCE|     CRIMINAL DAMAGE| 5040|\n",
      "|            RESIDENCE|               THEFT| 5017|\n",
      "|   SMALL RETAIL STORE|               THEFT| 4389|\n",
      "|               STREET|           NARCOTICS| 4256|\n",
      "|            APARTMENT|               THEFT| 4125|\n",
      "|             SIDEWALK|           NARCOTICS| 4089|\n",
      "|            APARTMENT|     CRIMINAL DAMAGE| 3759|\n",
      "|            RESIDENCE|            BURGLARY| 3711|\n",
      "|            APARTMENT|            BURGLARY| 3676|\n",
      "|               STREET|       OTHER OFFENSE| 3617|\n",
      "|               STREET|             ASSAULT| 3555|\n",
      "|     DEPARTMENT STORE|               THEFT| 3550|\n",
      "|            RESIDENCE|             ASSAULT| 3486|\n",
      "|           RESTAURANT|               THEFT| 3300|\n",
      "|            APARTMENT|             ASSAULT| 3270|\n",
      "|                OTHER|               THEFT| 2993|\n",
      "|             SIDEWALK|             ROBBERY| 2825|\n",
      "|            APARTMENT|       OTHER OFFENSE| 2734|\n",
      "|               STREET|             ROBBERY| 2727|\n",
      "| PARKING LOT/GARAG...|               THEFT| 2593|\n",
      "|             SIDEWALK|               THEFT| 2549|\n",
      "+---------------------+--------------------+-----+\n",
      "only showing top 30 rows\n",
      "\n"
     ]
    }
   ],
   "source": [
    "df2.show(30)"
   ]
  },
  {
   "cell_type": "code",
   "execution_count": 12,
   "metadata": {},
   "outputs": [],
   "source": [
    "df2 = spark.sql(\"select ` SECONDARY DESCRIPTION` as `Most Common Theft Crime`,count(*) as Total from table_crime where ` PRIMARY DESCRIPTION` = 'THEFT' group by ` SECONDARY DESCRIPTION` ORDER BY count(*) desc\")"
   ]
  },
  {
   "cell_type": "code",
   "execution_count": 13,
   "metadata": {},
   "outputs": [],
   "source": [
    "#Most Common Theft Crime || Kasus pencurian paling sericng"
   ]
  },
  {
   "cell_type": "code",
   "execution_count": 14,
   "metadata": {},
   "outputs": [
    {
     "name": "stdout",
     "output_type": "stream",
     "text": [
      "+-----------------------+-----+\n",
      "|Most Common Theft Crime|Total|\n",
      "+-----------------------+-----+\n",
      "|         $500 AND UNDER|24416|\n",
      "|              OVER $500|15340|\n",
      "|          FROM BUILDING|10943|\n",
      "|           RETAIL THEFT|10694|\n",
      "|         POCKET-PICKING| 2490|\n",
      "|        PURSE-SNATCHING|  566|\n",
      "|          ATTEMPT THEFT|  419|\n",
      "|   DELIVERY CONTAINE...|   41|\n",
      "|   FROM COIN-OP MACH...|   25|\n",
      "+-----------------------+-----+\n",
      "\n"
     ]
    }
   ],
   "source": [
    "df2.show()"
   ]
  },
  {
   "cell_type": "code",
   "execution_count": 29,
   "metadata": {},
   "outputs": [],
   "source": [
    "df2 = spark.sql(\"select ` LOCATION DESCRIPTION`,count(*) as `Number of Arrested Case` from table_crime where `DOMESTIC` = 'Y' and `ARREST` = 'Y' group by ` LOCATION DESCRIPTION` order by COUNT(*) DESC\")"
   ]
  },
  {
   "cell_type": "code",
   "execution_count": null,
   "metadata": {},
   "outputs": [],
   "source": [
    "#Number of Arrested Domestic Case on Diffrent Location || Jumlah kasus kekerasan rumah tangga yang berhasil ditangkap di berbagai lokasi"
   ]
  },
  {
   "cell_type": "code",
   "execution_count": 30,
   "metadata": {},
   "outputs": [
    {
     "name": "stdout",
     "output_type": "stream",
     "text": [
      "+---------------------+-----------------------+\n",
      "| LOCATION DESCRIPTION|Number of Arrested Case|\n",
      "+---------------------+-----------------------+\n",
      "|            APARTMENT|                   2817|\n",
      "|            RESIDENCE|                   2369|\n",
      "|               STREET|                    717|\n",
      "|             SIDEWALK|                    427|\n",
      "| RESIDENTIAL YARD ...|                    159|\n",
      "| RESIDENCE PORCH/H...|                    127|\n",
      "|                ALLEY|                     83|\n",
      "| VEHICLE NON-COMME...|                     82|\n",
      "| PARKING LOT/GARAG...|                     72|\n",
      "|                OTHER|                     62|\n",
      "|        CHA APARTMENT|                     61|\n",
      "|          HOTEL/MOTEL|                     36|\n",
      "|          GAS STATION|                     28|\n",
      "|           RESTAURANT|                     21|\n",
      "|     RESIDENCE-GARAGE|                     17|\n",
      "|        PARK PROPERTY|                     16|\n",
      "|        BAR OR TAVERN|                     16|\n",
      "| SCHOOL, PUBLIC, B...|                     14|\n",
      "| POLICE FACILITY/V...|                     12|\n",
      "| HOSPITAL BUILDING...|                     12|\n",
      "+---------------------+-----------------------+\n",
      "only showing top 20 rows\n",
      "\n"
     ]
    }
   ],
   "source": [
    "df2.show()"
   ]
  },
  {
   "cell_type": "code",
   "execution_count": null,
   "metadata": {},
   "outputs": [],
   "source": []
  }
 ],
 "metadata": {
  "kernelspec": {
   "display_name": "Python 3",
   "language": "python",
   "name": "python3"
  },
  "language_info": {
   "codemirror_mode": {
    "name": "ipython",
    "version": 3
   },
   "file_extension": ".py",
   "mimetype": "text/x-python",
   "name": "python",
   "nbconvert_exporter": "python",
   "pygments_lexer": "ipython3",
   "version": "3.7.2"
  }
 },
 "nbformat": 4,
 "nbformat_minor": 2
}
